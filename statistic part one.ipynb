{
 "cells": [
  {
   "attachments": {
    "image-2.png": {
     "image/png": "[encoded data removed]"
    }
   },
   "cell_type": "markdown",
   "metadata": {},
   "source": [
    "# What is Statistics?\n",
    "             \n",
    "Statistics play an important role in real life, especially in large industries, where data is computed in bulk. `Statistic is a science of collecting, analyzing and interpreting large data and present the result in form of graphs, probability, charts or tables for easy understanding`.\n",
    "\n",
    "**Two fundamental ideas in the field of statistics are uncertainty and variation.**\n",
    "\n",
    "\n",
    "# Types  of  Statistics\n",
    "![image-2.png](attachment:image-2.png)\n",
    "\n",
    "**Descriptive statistics**\n",
    "\n",
    "Descriptive statistics is the type of statistics that summarize data through the given observations. Is describe a collection of data using tables, graphs, and summary measures. For example, the collection of people in a city using the internet or using Television.\n",
    "\n",
    "**In layman term, Descriptive statistic use one number to tell you everything about data** \n",
    "\n",
    "\n",
    "`Using descriptive statistics, you can report characteristics of your data using the following measure::`\n",
    "\n",
    "**1. Measure of frequency:** displays the number of times a particular data occurs.\n",
    "\n",
    "**2. Measure of dispersion:** identifies the spread of data. (`Range, Variance, Standard Deviation` are measures of dispersion.\n",
    "\n",
    "**3. Measure of central tendency:** measure the center of the dataset, example  are the `mean, median` of the data.\n",
    "\n",
    "**4. Measure of position:** describes the `percentile` and quauntile `ranks`.\n",
    "\n",
    "\n",
    "**In descriptive statistics, there is no uncertainty** – Since you are precisely describing the data that you collected, No comparison or test is been done. "
   ]
  },
  {
   "cell_type": "code",
   "execution_count": null,
   "metadata": {},
   "outputs": [],
   "source": []
  },
  {
   "cell_type": "markdown",
   "metadata": {},
   "source": [
    "# 1.Type of Descriptive measure: Central Tendency"
   ]
  },
  {
   "cell_type": "code",
   "execution_count": null,
   "metadata": {},
   "outputs": [],
   "source": []
  },
  {
   "cell_type": "markdown",
   "metadata": {},
   "source": [
    "# 1. Mean\n",
    "is the average of the distribution of the dataset\n",
    "\n",
    "# Exercise\n",
    "\n",
    "**Data of hundred people's age were collected as a sample data from population of ggg village. Using Descriptive Statistic, give the summary of the data distribution**\n",
    "\n",
    "population_age= [13,4,35,27,51,18,34,22,34,25,24,29,31,37,34,36,32,24,19,17,27,29,26,27,35,41,50,62,70,24,26,25,42,47,41,\n",
    "                 28,25,37,31,39,34,32,45,32,37,31,27,35,27,31,30,42,46,12,25,27,12,15,70,17,18,26,15,42,16,18,29,25,27,\n",
    "                 30,37,36,48,42,41,12,21,33,22,44,55,11,63,23,7,3,16,34,12,34, 12,31,45,65,24,31,18,64,7,10]"
   ]
  },
  {
   "cell_type": "code",
   "execution_count": 3,
   "metadata": {},
   "outputs": [],
   "source": [
    "population_age= [1, 13,4,50,71,51,60,34,54,34,25,24,60,31,37,79,36,62,24,19,81,27,29,26,27,35,41,50,62,70,24,26,25,42,47,41,\n",
    "                 28,25,37,31,39,3,32,45,32,37,31,27,35,27,31,30,42,46,12,25,27,12,15,70,17,18,26,15,42,16,18,29,25,27,\n",
    "                 30,37,36,48,42,41,12,21,33,22,44,55,11,6,23,7,3,16,34,12,34, 12,31,45,65,24,31,18,64,7,10,2000]"
   ]
  },
  {
   "cell_type": "code",
   "execution_count": 4,
   "metadata": {},
   "outputs": [
    {
     "data": {
      "text/plain": [
       "51.64705882352941"
      ]
     },
     "execution_count": 4,
     "metadata": {},
     "output_type": "execute_result"
    }
   ],
   "source": [
    "import math\n",
    "import numpy as np\n",
    "\n",
    "np.mean(population_age)"
   ]
  },
  {
   "cell_type": "markdown",
   "metadata": {},
   "source": [
    "**The average age distribution of people in ggg village is `32.67`, it can be summarize that the age group of people that dominate the ggg village is YOUTHS**"
   ]
  },
  {
   "cell_type": "code",
   "execution_count": null,
   "metadata": {},
   "outputs": [],
   "source": []
  },
  {
   "cell_type": "markdown",
   "metadata": {},
   "source": [
    "# 2. Median\n",
    "it tell you about the middle of your dataset\n",
    "\n",
    " # Exercise \n",
    "A set of student were given task to type on the system. The duration of time taken each student to complete the task is as given below. Use descrptive statistic to give the the summary of the data\n",
    "\n",
    "[1,3,4,5,7,2,9,7,3,7,4,3,2,5,6,8,1,3]"
   ]
  },
  {
   "cell_type": "code",
   "execution_count": 5,
   "metadata": {},
   "outputs": [
    {
     "data": {
      "text/plain": [
       "4.0"
      ]
     },
     "execution_count": 5,
     "metadata": {},
     "output_type": "execute_result"
    }
   ],
   "source": [
    "duration=[1,3,4,5,7,2,9,7,3,7,4,3,2,5,6,8,1,3]\n",
    "np.median(duration)"
   ]
  },
  {
   "cell_type": "markdown",
   "metadata": {},
   "source": [
    "**The middle of our data distribution is 4.so,  it can be say that any students that spend less than 4 hours to type has high typing speed, student that spend more than 4 hours to type has low typing speed and student that spend exactly 4 hours to type has midium typing speed**"
   ]
  },
  {
   "cell_type": "code",
   "execution_count": null,
   "metadata": {},
   "outputs": [],
   "source": []
  },
  {
   "cell_type": "markdown",
   "metadata": {},
   "source": [
    "# 3. Mode\n",
    "it tell us about the most frequent datapoint in the data distribution"
   ]
  },
  {
   "cell_type": "markdown",
   "metadata": {},
   "source": [
    "# Exercise\n",
    "use the Discriptive statistic on the given data above to give the summary of the most frequent datapoint"
   ]
  },
  {
   "cell_type": "code",
   "execution_count": 6,
   "metadata": {},
   "outputs": [
    {
     "data": {
      "text/plain": [
       "3"
      ]
     },
     "execution_count": 6,
     "metadata": {},
     "output_type": "execute_result"
    }
   ],
   "source": [
    "import statistics as st\n",
    "st.mode(duration)"
   ]
  },
  {
   "cell_type": "markdown",
   "metadata": {},
   "source": [
    "**The most frequent datapoint from our data distribution is 3 hours.**"
   ]
  },
  {
   "cell_type": "code",
   "execution_count": null,
   "metadata": {},
   "outputs": [],
   "source": []
  },
  {
   "cell_type": "code",
   "execution_count": null,
   "metadata": {},
   "outputs": [],
   "source": []
  },
  {
   "cell_type": "markdown",
   "metadata": {},
   "source": [
    "# 2.Type of Descriptive measure: Measure of dispersion\n",
    "Measure of spread gives us an idea of how well the mean represents the data. If the spread of values in the data set is large, the mean is not as good representative of the data as if the spread of data is small. **This is because a large spread indicates that there are probably large differences between individual data point**. \n",
    "\n",
    "`Additionally, in research, it is often seen as positive if there is little variation in each data group as it indicates that the similar.`\n"
   ]
  },
  {
   "cell_type": "code",
   "execution_count": null,
   "metadata": {},
   "outputs": [],
   "source": []
  },
  {
   "cell_type": "markdown",
   "metadata": {},
   "source": [
    "# 1. Range\n",
    "The range compute of spread of your data from the lowest to the highest scores to set a simplest measure of spread. it uses the same unit as the dataset to tell how well central tendency represent the data. High range means central tendency is not a good representation of the data as when the range is low\n",
    "\n",
    "# Exercise\n",
    "use the range measurement to give the summary to the population age dataset below\n",
    "\n",
    "population_age= [13,4,50,71,51,60,34,54,34,25,24,60,31,37,79,36,62,24,19,81,27,29,26,27,35,41,50,62,70,24,26,25,42,47,41,\n",
    "                 28,25,37,31,39,3,32,45,32,37,31,27,35,27,31,30,42,46,12,25,27,12,15,70,17,18,26,15,42,16,18,29,25,27,\n",
    "                 30,37,36,48,42,41,12,21,33,22,44,55,11,6,23,7,3,16,34,12,34, 12,31,45,65,24,31,18,64,7,10]\n"
   ]
  },
  {
   "cell_type": "code",
   "execution_count": 7,
   "metadata": {},
   "outputs": [
    {
     "name": "stdout",
     "output_type": "stream",
     "text": [
      "the statistical range of the population age is  78\n"
     ]
    }
   ],
   "source": [
    "population_age= [13,4,50,71,51,60,34,54,34,25,24,60,31,37,79,36,62,24,19,81,27,29,26,27,35,41,50,62,70,24,26,25,42,47,41,\n",
    "                 28,25,37,31,39,3,32,45,32,37,31,27,35,27,31,30,42,46,12,25,27,12,15,70,17,18,26,15,42,16,18,29,25,27,\n",
    "                 30,37,36,48,42,41,12,21,33,22,44,55,11,6,23,7,3,16,34,12,34, 12,31,45,65,24,31,18,64,7,10]\n",
    "\n",
    "\n",
    "import statistics as st\n",
    "import numpy as np\n",
    "\n",
    "ranges=np.ptp(population_age)\n",
    "print(\"the statistical range of the population age is \", ranges)"
   ]
  },
  {
   "cell_type": "code",
   "execution_count": null,
   "metadata": {},
   "outputs": [],
   "source": []
  },
  {
   "cell_type": "markdown",
   "metadata": {},
   "source": [
    "# 2. quantile and Interquartile Range\n",
    "\n",
    "Quantile tell us about the spread of a data set by dividing the data set into equal size. Just like the median breaks it in half, quantile divide data into four.\n",
    "Often, the term quantile or percentile are used when we divide each datapoint into it's own group. `calculating percentile or quantile is the just a matter of finding out how many values are less than the value you are concern about`  \n",
    "\n",
    "# Exercise\n",
    "Consider the marks of the 100 students below, use the quantile measurement to classfy the Student, Any Student that scores below 1st quantile should be remarks as `Fail`, Students above 1st and below 3rd quantile should be remarks as `pass` and Students above 3rd quantile should be remarks as `Distinction`\n",
    "\n",
    "score=[70, 71, 71, 71, 72, 74, 39, 39, 39, 39, 68, 69, 69, 69, 70,  74 ,74, 41, 42, 42, 42, 42, 42, 44, 44, 45, 45, 45, 45,\n",
    "       47, 48, 49, 49, 81, 83, 84, 84, 85, 39, 53, 54, 55, 55, 56, 49, 49, 51, 51, 51, 40, 40, 40, 40, 40, 40, 41, 67, 51,\n",
    "       52, 52, 53,35, 37, 37, 38, 57, 57, 58, 58, 59, 60, 61, 62, 62, 62, 63, 63, 64, 64, 64, 64, 65, 66, 67, 67, 67, 74, \n",
    "       74, 75, 75, 76, 77, 77, 79, 80, 81, 81, 81, 81, 81]"
   ]
  },
  {
   "cell_type": "code",
   "execution_count": 9,
   "metadata": {},
   "outputs": [],
   "source": [
    "score=[70, 71, 71, 71, 72, 74, 39, 39, 39, 39, 68, 69, 69, 69, 70,  74 ,74, 41, 42, 42, 42, 42, 42, 44, 44, 45, 45, 45, 45,\n",
    "       47, 48, 49, 49, 81, 83, 84, 84, 85, 39, 53, 54, 55, 55, 56, 49, 49, 51, 51, 51, 40, 40, 40, 40, 40, 40, 41, 67, 51,\n",
    "       52, 52, 53,35, 37, 37, 38, 57, 57, 58, 58, 59, 60, 61, 62, 62, 62, 63, 63, 64, 64, 64, 64, 65, 66, 67, 67, 67, 74, \n",
    "       74, 75, 75, 76, 77, 77, 79, 80, 81, 81, 81, 81, 81]\n",
    "\n",
    "socere_ = np.array(score)"
   ]
  },
  {
   "cell_type": "code",
   "execution_count": null,
   "metadata": {},
   "outputs": [],
   "source": []
  },
  {
   "cell_type": "code",
   "execution_count": 10,
   "metadata": {},
   "outputs": [
    {
     "data": {
      "text/plain": [
       "45.0"
      ]
     },
     "execution_count": 10,
     "metadata": {},
     "output_type": "execute_result"
    }
   ],
   "source": [
    "# find the first percentile \n",
    "q1 = np.percentile(score, 25)\n",
    "q1"
   ]
  },
  {
   "cell_type": "code",
   "execution_count": 11,
   "metadata": {},
   "outputs": [
    {
     "data": {
      "text/plain": [
       "71.0"
      ]
     },
     "execution_count": 11,
     "metadata": {},
     "output_type": "execute_result"
    }
   ],
   "source": [
    "# find the third Quartile\n",
    "q3 = np.quantile(score, 0.75 )\n",
    "q3"
   ]
  },
  {
   "cell_type": "code",
   "execution_count": 12,
   "metadata": {},
   "outputs": [
    {
     "name": "stdout",
     "output_type": "stream",
     "text": [
      "[39 39 39 39 41 42 42 42 42 42 44 44 45 45 45 45 39 40 40 40 40 40 40 41\n",
      " 35 37 37 38] \n",
      "\n",
      "The total count of Student that scores below first quartile is  28\n"
     ]
    }
   ],
   "source": [
    "# filter all student that score below 1 quartile\n",
    "a=   socere_   [socere_ <=q1]\n",
    "print(a, '\\n')\n",
    "print(\"The total count of Student that scores below first quartile is \", len(a))"
   ]
  },
  {
   "cell_type": "code",
   "execution_count": 13,
   "metadata": {},
   "outputs": [
    {
     "name": "stdout",
     "output_type": "stream",
     "text": [
      "[70 71 71 71 68 69 69 69 70 45 45 45 45 47 48 49 49 53 54 55 55 56 49 49\n",
      " 51 51 51 67 51 52 52 53 57 57 58 58 59 60 61 62 62 62 63 63 64 64 64 64\n",
      " 65 66 67 67 67] \n",
      "\n",
      "The total count of Student that scores between first quartile and the third quartile is  53\n"
     ]
    }
   ],
   "source": [
    "# filter all student that scores between first quartile and the third quartile\n",
    "a= socere_    [(socere_>= q1) & ( socere_ <=q3)]\n",
    "print(a, '\\n')\n",
    "print(\"The total count of Student that scores between first quartile and the third quartile is \", len(a))"
   ]
  },
  {
   "cell_type": "code",
   "execution_count": 14,
   "metadata": {},
   "outputs": [
    {
     "name": "stdout",
     "output_type": "stream",
     "text": [
      "[72 74 74 74 81 83 84 84 85 74 74 75 75 76 77 77 79 80 81 81 81 81 81] \n",
      "\n",
      "The total count of Student that scores above third quartile is  23\n"
     ]
    }
   ],
   "source": [
    "# filter all student that score above third quantile\n",
    "a=socere_[socere_>q3]\n",
    "print(a, '\\n')\n",
    "print(\"The total count of Student that scores above third quartile is \", len(a))"
   ]
  },
  {
   "cell_type": "code",
   "execution_count": 15,
   "metadata": {},
   "outputs": [
    {
     "data": {
      "text/plain": [
       "80.10000000000001"
      ]
     },
     "execution_count": 15,
     "metadata": {},
     "output_type": "execute_result"
    }
   ],
   "source": []
  },
  {
   "cell_type": "markdown",
   "metadata": {},
   "source": [
    "# 3. Interquartile Range\n",
    "\n",
    "IRQ is the difference between the third quartile and the first quartile. While range gives you the spread of the whole data set, the **interquartile** range gives you the range of the\n",
    "middle half of a data set. It give the an overview of where most of your values lie and how clustered they are. \n",
    "\n",
    "`Because of it’s middle-based of the distribution, it can be use to detect  outliers in the dataset`\n",
    "\n",
    "**Interquartile is compute by finding the different between the first quartile and the third quartile**\n",
    "\n",
    "`IRQ = Q3 - Q1`"
   ]
  },
  {
   "cell_type": "code",
   "execution_count": 16,
   "metadata": {},
   "outputs": [
    {
     "data": {
      "text/plain": [
       "26.0"
      ]
     },
     "execution_count": 16,
     "metadata": {},
     "output_type": "execute_result"
    }
   ],
   "source": [
    "irq = q3 -  q1\n",
    "irq"
   ]
  },
  {
   "cell_type": "markdown",
   "metadata": {},
   "source": [
    "# 4. Variance\n",
    "\n",
    "The variance is a measure of variability and it tells us the degree of spread in a data set, **The more spread the data, the larger the variance is in relation to the mean**. It is calculated by taking the average of squared deviations from the mean.\n"
   ]
  },
  {
   "cell_type": "code",
   "execution_count": 17,
   "metadata": {},
   "outputs": [
    {
     "data": {
      "text/plain": [
       "211.8875"
      ]
     },
     "execution_count": 17,
     "metadata": {},
     "output_type": "execute_result"
    }
   ],
   "source": [
    "score=[70, 71, 71, 71, 72, 74, 39, 39, 39, 39, 68, 69, 69, 69, 70,  74 ,74, 41, 42, 42, 42, 42, 42, 44, 44, 45, 45, 45, 45,\n",
    "       47, 48, 49, 49, 81, 83, 84, 84, 85, 39, 53, 54, 55, 55, 56, 49, 49, 51, 51, 51, 40, 40, 40, 40, 40, 40, 41, 67, 51,\n",
    "       52, 52, 53,35, 37, 37, 38, 57, 57, 58, 58, 59, 60, 61, 62, 62, 62, 63, 63, 64, 64, 64, 64, 65, 66, 67, 67, 67, 74, \n",
    "       74, 75, 75, 76, 77, 77, 79, 80, 81, 81, 81, 81, 81]\n",
    "\n",
    "np.var(score)"
   ]
  },
  {
   "cell_type": "code",
   "execution_count": null,
   "metadata": {},
   "outputs": [],
   "source": []
  },
  {
   "cell_type": "markdown",
   "metadata": {},
   "source": [
    "# 5. Standard Deviation\n",
    "\n",
    "\n",
    "The standard deviation is a measure of how spread out the datas in a  data distribution area. It indicates how\n",
    "much, on average, each of the values in the distribution deviates from the mean, or center, of the distribution. **A high standard deviation means that values are generally far from the mean, while a low standard deviation\n",
    "indicates that values are clustered close to the mean.**"
   ]
  },
  {
   "cell_type": "code",
   "execution_count": 35,
   "metadata": {},
   "outputs": [
    {
     "data": {
      "text/plain": [
       "14.556356000043417"
      ]
     },
     "execution_count": 35,
     "metadata": {},
     "output_type": "execute_result"
    }
   ],
   "source": [
    "score=[70, 71, 71, 71, 72, 74, 39, 39, 39, 39, 68, 69, 69, 69, 70,  74 ,74, 41, 42, 42, 42, 42, 42, 44, 44, 45, 45, 45, 45,\n",
    "       47, 48, 49, 49, 81, 83, 84, 84, 85, 39, 53, 54, 55, 55, 56, 49, 49, 51, 51, 51, 40, 40, 40, 40, 40, 40, 41, 67, 51,\n",
    "       52, 52, 53,35, 37, 37, 38, 57, 57, 58, 58, 59, 60, 61, 62, 62, 62, 63, 63, 64, 64, 64, 64, 65, 66, 67, 67, 67, 74, \n",
    "       74, 75, 75, 76, 77, 77, 79, 80, 81, 81, 81, 81, 81]\n",
    "\n",
    "np.std(score)"
   ]
  },
  {
   "cell_type": "code",
   "execution_count": null,
   "metadata": {},
   "outputs": [],
   "source": []
  },
  {
   "cell_type": "markdown",
   "metadata": {},
   "source": [
    "# Difference between variance and Standard Deviation\n",
    "**Standard deviation** is expressed in the same units as the original values (e.g., meters) while **Variance** is expressed in much larger units (e.g., meters squared)\n",
    "\n",
    "• Since the units of variance are much larger than those of a typical value of a data set, it’s harder to interpret\n",
    "the variance number intuitively. That’s why standard deviation is often preferred as a main measure of\n",
    "variability. However, the variance is more informative about variability than the standard deviation, and it’s used in\n",
    "making statistical inferences."
   ]
  },
  {
   "cell_type": "code",
   "execution_count": null,
   "metadata": {},
   "outputs": [],
   "source": []
  },
  {
   "cell_type": "code",
   "execution_count": null,
   "metadata": {},
   "outputs": [],
   "source": []
  },
  {
   "cell_type": "markdown",
   "metadata": {},
   "source": [
    "# Random Variables\n",
    "• A variable can be define as any object that can take any value, like height of the person beside you, weight of a child, gender of human being. **A random variable is a variable that vary due to chances.**\n",
    "\n",
    "#  Types of Random Variables\n",
    "\n",
    "**1. Discrete Random Variables**: Are random variables whose range has a `limited number` of possible values (like days in a month). they are `countable` entity that can not be divided into smaller parts or be `measured`. Discrete random variables may be nominal or ordinal variable\n",
    "\n",
    "`Example of Discrete Random Variables are`\n",
    "\n",
    "-  student present in the class\n",
    "\n",
    "- Student grade \n",
    "\n",
    "- number of language individuals Speaks.\n",
    "\n",
    "\n",
    "**2. Continues Random variable:** Continuous data is consider as the opposite of discrete data where variable information can be meaningfully `divided` into level, it can be `measured` on a scale and can have almost any numeric values, It has `infinite number` of possible values within an interval and can not be `countable`, For example, numbers between 1\n",
    "and 2 meter\n",
    "\n",
    " `Example of continuous variable are.`\n",
    " \n",
    "- The amount of time required to complete a project\n",
    " \n",
    "- the height of children\n",
    " \n",
    "- the amount of rain fall\n",
    " \n",
    "- the weight of a truck\n",
    " \n",
    "- the speed of a car"
   ]
  },
  {
   "cell_type": "code",
   "execution_count": null,
   "metadata": {},
   "outputs": [],
   "source": []
  },
  {
   "attachments": {
    "1.png": {
     "image/png": "[encoded data removed]"
    }
   },
   "cell_type": "markdown",
   "metadata": {},
   "source": [
    "# Population and Sample\n",
    "\n",
    "In statistics, **population** is the entire set of items from which you draw data for a statistical study. It can be a\n",
    "group of individuals, a set of items, etc. It makes up the pool of data for study.\n",
    "\n",
    "\n",
    "**Sample** is an unbiased subset of the population that best represents the whole data.\n",
    "\n",
    "**A sample should generally:**\n",
    "\n",
    "• Satisfy all different variations present in the population as well as a well-defined selection criterion.\n",
    "\n",
    "• Be utterly unbiased on the properties of the objects being selected.\n",
    "\n",
    "• Be random to choose the objects of study fairly.\n",
    "\n",
    "![1.png](attachment:1.png)"
   ]
  },
  {
   "cell_type": "code",
   "execution_count": null,
   "metadata": {},
   "outputs": [],
   "source": []
  },
  {
   "cell_type": "code",
   "execution_count": null,
   "metadata": {},
   "outputs": [],
   "source": []
  },
  {
   "cell_type": "code",
   "execution_count": null,
   "metadata": {},
   "outputs": [],
   "source": []
  }
 ],
 "metadata": {
  "kernelspec": {
   "display_name": "Python 3 (ipykernel)",
   "language": "python",
   "name": "python3"
  },
  "language_info": {
   "codemirror_mode": {
    "name": "ipython",
    "version": 3
   },
   "file_extension": ".py",
   "mimetype": "text/x-python",
   "name": "python",
   "nbconvert_exporter": "python",
   "pygments_lexer": "ipython3",
   "version": "3.9.13"
  }
 },
 "nbformat": 4,
 "nbformat_minor": 4
}
